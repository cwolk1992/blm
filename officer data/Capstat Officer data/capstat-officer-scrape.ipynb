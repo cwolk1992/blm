{
 "cells": [
  {
   "cell_type": "code",
   "execution_count": 4,
   "metadata": {},
   "outputs": [
    {
     "name": "stdout",
     "output_type": "stream",
     "text": [
      "Requirement already up-to-date: selenium in /Users/catherinewolk/anaconda3/lib/python3.7/site-packages (3.141.0)\n",
      "Requirement already satisfied, skipping upgrade: urllib3 in /Users/catherinewolk/anaconda3/lib/python3.7/site-packages (from selenium) (1.24.2)\n",
      "Note: you may need to restart the kernel to use updated packages.\n"
     ]
    }
   ],
   "source": [
    "pip install --upgrade selenium\n"
   ]
  },
  {
   "cell_type": "code",
   "execution_count": 1,
   "metadata": {},
   "outputs": [],
   "source": [
    "import re\n",
    "import os\n",
    "import time\n",
    "import random\n",
    "import requests\n",
    "import numpy as np\n",
    "import pandas as pd\n",
    "from os import system\n",
    "from math import floor\n",
    "from copy import deepcopy\n",
    "from selenium import webdriver\n",
    "from selenium.webdriver.common.by import By\n",
    "from selenium.webdriver.common.keys import Keys\n",
    "from selenium.common.exceptions import TimeoutException\n",
    "from selenium.webdriver.support.ui import WebDriverWait\n",
    "from selenium.webdriver.support import expected_conditions as EC"
   ]
  },
  {
   "cell_type": "code",
   "execution_count": 2,
   "metadata": {},
   "outputs": [
    {
     "ename": "SessionNotCreatedException",
     "evalue": "Message: session not created: This version of ChromeDriver only supports Chrome version 80\n",
     "output_type": "error",
     "traceback": [
      "\u001b[0;31m---------------------------------------------------------------------------\u001b[0m",
      "\u001b[0;31mSessionNotCreatedException\u001b[0m                Traceback (most recent call last)",
      "\u001b[0;32m<ipython-input-2-d9e44756a063>\u001b[0m in \u001b[0;36m<module>\u001b[0;34m\u001b[0m\n\u001b[1;32m      1\u001b[0m \u001b[0;32mfrom\u001b[0m \u001b[0mselenium\u001b[0m \u001b[0;32mimport\u001b[0m \u001b[0mwebdriver\u001b[0m\u001b[0;34m\u001b[0m\u001b[0;34m\u001b[0m\u001b[0m\n\u001b[0;32m----> 2\u001b[0;31m \u001b[0mdriver\u001b[0m \u001b[0;34m=\u001b[0m \u001b[0mwebdriver\u001b[0m\u001b[0;34m.\u001b[0m\u001b[0mChrome\u001b[0m\u001b[0;34m(\u001b[0m\u001b[0;34m)\u001b[0m\u001b[0;34m\u001b[0m\u001b[0;34m\u001b[0m\u001b[0m\n\u001b[0m",
      "\u001b[0;32m~/anaconda3/lib/python3.7/site-packages/selenium/webdriver/chrome/webdriver.py\u001b[0m in \u001b[0;36m__init__\u001b[0;34m(self, executable_path, port, options, service_args, desired_capabilities, service_log_path, chrome_options, keep_alive)\u001b[0m\n\u001b[1;32m     79\u001b[0m                     \u001b[0mremote_server_addr\u001b[0m\u001b[0;34m=\u001b[0m\u001b[0mself\u001b[0m\u001b[0;34m.\u001b[0m\u001b[0mservice\u001b[0m\u001b[0;34m.\u001b[0m\u001b[0mservice_url\u001b[0m\u001b[0;34m,\u001b[0m\u001b[0;34m\u001b[0m\u001b[0;34m\u001b[0m\u001b[0m\n\u001b[1;32m     80\u001b[0m                     keep_alive=keep_alive),\n\u001b[0;32m---> 81\u001b[0;31m                 desired_capabilities=desired_capabilities)\n\u001b[0m\u001b[1;32m     82\u001b[0m         \u001b[0;32mexcept\u001b[0m \u001b[0mException\u001b[0m\u001b[0;34m:\u001b[0m\u001b[0;34m\u001b[0m\u001b[0;34m\u001b[0m\u001b[0m\n\u001b[1;32m     83\u001b[0m             \u001b[0mself\u001b[0m\u001b[0;34m.\u001b[0m\u001b[0mquit\u001b[0m\u001b[0;34m(\u001b[0m\u001b[0;34m)\u001b[0m\u001b[0;34m\u001b[0m\u001b[0;34m\u001b[0m\u001b[0m\n",
      "\u001b[0;32m~/anaconda3/lib/python3.7/site-packages/selenium/webdriver/remote/webdriver.py\u001b[0m in \u001b[0;36m__init__\u001b[0;34m(self, command_executor, desired_capabilities, browser_profile, proxy, keep_alive, file_detector, options)\u001b[0m\n\u001b[1;32m    155\u001b[0m             warnings.warn(\"Please use FirefoxOptions to set browser profile\",\n\u001b[1;32m    156\u001b[0m                           DeprecationWarning, stacklevel=2)\n\u001b[0;32m--> 157\u001b[0;31m         \u001b[0mself\u001b[0m\u001b[0;34m.\u001b[0m\u001b[0mstart_session\u001b[0m\u001b[0;34m(\u001b[0m\u001b[0mcapabilities\u001b[0m\u001b[0;34m,\u001b[0m \u001b[0mbrowser_profile\u001b[0m\u001b[0;34m)\u001b[0m\u001b[0;34m\u001b[0m\u001b[0;34m\u001b[0m\u001b[0m\n\u001b[0m\u001b[1;32m    158\u001b[0m         \u001b[0mself\u001b[0m\u001b[0;34m.\u001b[0m\u001b[0m_switch_to\u001b[0m \u001b[0;34m=\u001b[0m \u001b[0mSwitchTo\u001b[0m\u001b[0;34m(\u001b[0m\u001b[0mself\u001b[0m\u001b[0;34m)\u001b[0m\u001b[0;34m\u001b[0m\u001b[0;34m\u001b[0m\u001b[0m\n\u001b[1;32m    159\u001b[0m         \u001b[0mself\u001b[0m\u001b[0;34m.\u001b[0m\u001b[0m_mobile\u001b[0m \u001b[0;34m=\u001b[0m \u001b[0mMobile\u001b[0m\u001b[0;34m(\u001b[0m\u001b[0mself\u001b[0m\u001b[0;34m)\u001b[0m\u001b[0;34m\u001b[0m\u001b[0;34m\u001b[0m\u001b[0m\n",
      "\u001b[0;32m~/anaconda3/lib/python3.7/site-packages/selenium/webdriver/remote/webdriver.py\u001b[0m in \u001b[0;36mstart_session\u001b[0;34m(self, capabilities, browser_profile)\u001b[0m\n\u001b[1;32m    250\u001b[0m         parameters = {\"capabilities\": w3c_caps,\n\u001b[1;32m    251\u001b[0m                       \"desiredCapabilities\": capabilities}\n\u001b[0;32m--> 252\u001b[0;31m         \u001b[0mresponse\u001b[0m \u001b[0;34m=\u001b[0m \u001b[0mself\u001b[0m\u001b[0;34m.\u001b[0m\u001b[0mexecute\u001b[0m\u001b[0;34m(\u001b[0m\u001b[0mCommand\u001b[0m\u001b[0;34m.\u001b[0m\u001b[0mNEW_SESSION\u001b[0m\u001b[0;34m,\u001b[0m \u001b[0mparameters\u001b[0m\u001b[0;34m)\u001b[0m\u001b[0;34m\u001b[0m\u001b[0;34m\u001b[0m\u001b[0m\n\u001b[0m\u001b[1;32m    253\u001b[0m         \u001b[0;32mif\u001b[0m \u001b[0;34m'sessionId'\u001b[0m \u001b[0;32mnot\u001b[0m \u001b[0;32min\u001b[0m \u001b[0mresponse\u001b[0m\u001b[0;34m:\u001b[0m\u001b[0;34m\u001b[0m\u001b[0;34m\u001b[0m\u001b[0m\n\u001b[1;32m    254\u001b[0m             \u001b[0mresponse\u001b[0m \u001b[0;34m=\u001b[0m \u001b[0mresponse\u001b[0m\u001b[0;34m[\u001b[0m\u001b[0;34m'value'\u001b[0m\u001b[0;34m]\u001b[0m\u001b[0;34m\u001b[0m\u001b[0;34m\u001b[0m\u001b[0m\n",
      "\u001b[0;32m~/anaconda3/lib/python3.7/site-packages/selenium/webdriver/remote/webdriver.py\u001b[0m in \u001b[0;36mexecute\u001b[0;34m(self, driver_command, params)\u001b[0m\n\u001b[1;32m    319\u001b[0m         \u001b[0mresponse\u001b[0m \u001b[0;34m=\u001b[0m \u001b[0mself\u001b[0m\u001b[0;34m.\u001b[0m\u001b[0mcommand_executor\u001b[0m\u001b[0;34m.\u001b[0m\u001b[0mexecute\u001b[0m\u001b[0;34m(\u001b[0m\u001b[0mdriver_command\u001b[0m\u001b[0;34m,\u001b[0m \u001b[0mparams\u001b[0m\u001b[0;34m)\u001b[0m\u001b[0;34m\u001b[0m\u001b[0;34m\u001b[0m\u001b[0m\n\u001b[1;32m    320\u001b[0m         \u001b[0;32mif\u001b[0m \u001b[0mresponse\u001b[0m\u001b[0;34m:\u001b[0m\u001b[0;34m\u001b[0m\u001b[0;34m\u001b[0m\u001b[0m\n\u001b[0;32m--> 321\u001b[0;31m             \u001b[0mself\u001b[0m\u001b[0;34m.\u001b[0m\u001b[0merror_handler\u001b[0m\u001b[0;34m.\u001b[0m\u001b[0mcheck_response\u001b[0m\u001b[0;34m(\u001b[0m\u001b[0mresponse\u001b[0m\u001b[0;34m)\u001b[0m\u001b[0;34m\u001b[0m\u001b[0;34m\u001b[0m\u001b[0m\n\u001b[0m\u001b[1;32m    322\u001b[0m             response['value'] = self._unwrap_value(\n\u001b[1;32m    323\u001b[0m                 response.get('value', None))\n",
      "\u001b[0;32m~/anaconda3/lib/python3.7/site-packages/selenium/webdriver/remote/errorhandler.py\u001b[0m in \u001b[0;36mcheck_response\u001b[0;34m(self, response)\u001b[0m\n\u001b[1;32m    240\u001b[0m                 \u001b[0malert_text\u001b[0m \u001b[0;34m=\u001b[0m \u001b[0mvalue\u001b[0m\u001b[0;34m[\u001b[0m\u001b[0;34m'alert'\u001b[0m\u001b[0;34m]\u001b[0m\u001b[0;34m.\u001b[0m\u001b[0mget\u001b[0m\u001b[0;34m(\u001b[0m\u001b[0;34m'text'\u001b[0m\u001b[0;34m)\u001b[0m\u001b[0;34m\u001b[0m\u001b[0;34m\u001b[0m\u001b[0m\n\u001b[1;32m    241\u001b[0m             \u001b[0;32mraise\u001b[0m \u001b[0mexception_class\u001b[0m\u001b[0;34m(\u001b[0m\u001b[0mmessage\u001b[0m\u001b[0;34m,\u001b[0m \u001b[0mscreen\u001b[0m\u001b[0;34m,\u001b[0m \u001b[0mstacktrace\u001b[0m\u001b[0;34m,\u001b[0m \u001b[0malert_text\u001b[0m\u001b[0;34m)\u001b[0m\u001b[0;34m\u001b[0m\u001b[0;34m\u001b[0m\u001b[0m\n\u001b[0;32m--> 242\u001b[0;31m         \u001b[0;32mraise\u001b[0m \u001b[0mexception_class\u001b[0m\u001b[0;34m(\u001b[0m\u001b[0mmessage\u001b[0m\u001b[0;34m,\u001b[0m \u001b[0mscreen\u001b[0m\u001b[0;34m,\u001b[0m \u001b[0mstacktrace\u001b[0m\u001b[0;34m)\u001b[0m\u001b[0;34m\u001b[0m\u001b[0;34m\u001b[0m\u001b[0m\n\u001b[0m\u001b[1;32m    243\u001b[0m \u001b[0;34m\u001b[0m\u001b[0m\n\u001b[1;32m    244\u001b[0m     \u001b[0;32mdef\u001b[0m \u001b[0m_value_or_default\u001b[0m\u001b[0;34m(\u001b[0m\u001b[0mself\u001b[0m\u001b[0;34m,\u001b[0m \u001b[0mobj\u001b[0m\u001b[0;34m,\u001b[0m \u001b[0mkey\u001b[0m\u001b[0;34m,\u001b[0m \u001b[0mdefault\u001b[0m\u001b[0;34m)\u001b[0m\u001b[0;34m:\u001b[0m\u001b[0;34m\u001b[0m\u001b[0;34m\u001b[0m\u001b[0m\n",
      "\u001b[0;31mSessionNotCreatedException\u001b[0m: Message: session not created: This version of ChromeDriver only supports Chrome version 80\n"
     ]
    }
   ],
   "source": [
    "from selenium import webdriver\n",
    "driver = webdriver.Chrome()\n"
   ]
  },
  {
   "cell_type": "code",
   "execution_count": 121,
   "metadata": {},
   "outputs": [],
   "source": [
    "#Get signs, dates, and address"
   ]
  },
  {
   "cell_type": "code",
   "execution_count": 122,
   "metadata": {},
   "outputs": [],
   "source": [
    "driver.get('https://www.astrologyzone.com/horoscopes/')"
   ]
  },
  {
   "cell_type": "code",
   "execution_count": 15,
   "metadata": {},
   "outputs": [],
   "source": [
    "sign_name = []\n",
    "name = driver.find_elements_by_class_name('sign-title')\n",
    "for x in name:\n",
    "    sign_name.append(x.text)"
   ]
  },
  {
   "cell_type": "code",
   "execution_count": 16,
   "metadata": {},
   "outputs": [
    {
     "data": {
      "text/plain": [
       "['Aries',\n",
       " 'Taurus',\n",
       " 'Gemini',\n",
       " 'Cancer',\n",
       " 'Leo',\n",
       " 'Virgo',\n",
       " 'Libra',\n",
       " 'Scorpio',\n",
       " 'Sagittarius',\n",
       " 'Capricorn',\n",
       " 'Aquarius',\n",
       " 'Pisces']"
      ]
     },
     "execution_count": 16,
     "metadata": {},
     "output_type": "execute_result"
    }
   ],
   "source": [
    "sign_name"
   ]
  },
  {
   "cell_type": "code",
   "execution_count": 17,
   "metadata": {},
   "outputs": [],
   "source": [
    "sign_date = []\n",
    "date = driver.find_elements_by_class_name('sign-date')\n",
    "for x in date:\n",
    "    sign_date.append(x.text)"
   ]
  },
  {
   "cell_type": "code",
   "execution_count": 18,
   "metadata": {},
   "outputs": [
    {
     "data": {
      "text/plain": [
       "['MAR 21 - APR 19',\n",
       " 'APR 20 - MAY 20',\n",
       " 'MAY 21 - JUN 20',\n",
       " 'JUN 21 - JUL 22',\n",
       " 'JUL 23 - AUG 22',\n",
       " 'AUG 23 - SEP 22',\n",
       " 'SEP 23 - OCT 22',\n",
       " 'OCT 23 - NOV 21',\n",
       " 'NOV 22 - DEC 21',\n",
       " 'DEC 22 - JAN 19',\n",
       " 'JAN 20 - FEB 18',\n",
       " 'FEB 19 - MAR 20']"
      ]
     },
     "execution_count": 18,
     "metadata": {},
     "output_type": "execute_result"
    }
   ],
   "source": [
    "sign_date"
   ]
  },
  {
   "cell_type": "code",
   "execution_count": 53,
   "metadata": {},
   "outputs": [],
   "source": [
    "sign_html = []\n",
    "listy = driver.find_elements_by_class_name('horoscope-forecast-box')\n",
    "for x in listy:\n",
    "    sign_html.append(x.find_element_by_css_selector('a').get_attribute('href'))"
   ]
  },
  {
   "cell_type": "code",
   "execution_count": 172,
   "metadata": {},
   "outputs": [
    {
     "data": {
      "text/plain": [
       "['https://www.astrologyzone.com/forecasts/aries-horoscope-march-2020/',\n",
       " 'https://www.astrologyzone.com/forecasts/taurus-horoscope-for-march-2020/',\n",
       " 'https://www.astrologyzone.com/forecasts/gemini-horoscope-march-2020/',\n",
       " 'https://www.astrologyzone.com/forecasts/cancer-horoscope-march-2020/',\n",
       " 'https://www.astrologyzone.com/forecasts/leo-horoscope-march-2020/',\n",
       " 'https://www.astrologyzone.com/forecasts/virgo-horoscope-march-2020/',\n",
       " 'https://www.astrologyzone.com/forecasts/libra-horoscope-march-2020/',\n",
       " 'https://www.astrologyzone.com/forecasts/scorpio-horoscope-march-2020/',\n",
       " 'https://www.astrologyzone.com/forecasts/sagittarius-horoscope-march-2020/',\n",
       " 'https://www.astrologyzone.com/forecasts/capricorn-horoscope-march-2020/',\n",
       " 'https://www.astrologyzone.com/forecasts/aquarius-horoscope-march-2020/',\n",
       " 'https://www.astrologyzone.com/forecasts/pisces-horoscope-march-2020/']"
      ]
     },
     "execution_count": 172,
     "metadata": {},
     "output_type": "execute_result"
    }
   ],
   "source": [
    "sign_html"
   ]
  },
  {
   "cell_type": "code",
   "execution_count": 57,
   "metadata": {},
   "outputs": [],
   "source": [
    "#go to page for each sign\n",
    "hor_text = []\n",
    "for i in sign_html:\n",
    "    driver.get(i)\n",
    "    #scrape first page text because link not provided\n",
    "    first = driver.find_elements_by_class_name('article horoscope-content')\n",
    "    for x in first:\n",
    "        hor.append(x.text)\n",
    "    for i in \n",
    "    sign_html.append(x.find_element_by_css_selector('a').get_attribute('href'))\n",
    "    #get the links for each page\n",
    "    page_links = []\n",
    "    linklist = driver.find_elements_by_class_name('page-links')\n",
    "    #for x in linklist:\n",
    "        #page_links.append(x.find_elements_by_css_selector('a').get_attribute('href'))\n",
    "\n",
    "#itterate through pages\n",
    "#step two: scrape text from each page. Added to list.\n",
    "\n",
    "#step one: get list of links on the page. Then scrape the page, go to the next link, scrape the page.\n",
    "#in the range of the list.\n",
    "\n",
    "article horoscope-content\n",
    "\n",
    "horoscope = []\n",
    "count = 1\n",
    "for i in sign_html:    \n",
    "    getUrl = other_driver.get(i)\n",
    "    page_of_text = other_driver.find_element_by_class_name(\"page-content--column\")\n",
    "    list_of_text = page_of_text.find_elements_by_tag_name('p')\n",
    "    sublist = []\n",
    "    for x in list_of_text:\n",
    "        sublist.append(x.text)\n",
    "    S2020.append(' '.join(sublist))\n",
    "    print(str(len(html) - count) + ' articles left')\n",
    "    count += 1"
   ]
  },
  {
   "cell_type": "code",
   "execution_count": 65,
   "metadata": {},
   "outputs": [],
   "source": [
    "# # getting links for each page\n",
    "# page_links = []\n",
    "# #need to change to getting them for each page then getting text from each page\n",
    "# for i in sign_html:\n",
    "#     driver.get(i)\n",
    "#     linklist = driver.find_elements_by_class_name('post-page-numbers current')\n",
    "#     for x in linklist:\n",
    "#         page_links.append(x.find_element_by_css_selector('a').get_attribute('href'))\n",
    "    "
   ]
  },
  {
   "cell_type": "code",
   "execution_count": 140,
   "metadata": {},
   "outputs": [
    {
     "data": {
      "text/plain": [
       "'Ever since the year 2020 began, the universe has been speaking clearly, saying focus on your career for your status is rising with each passing day. The lineup of planets in Capricorn, your tenth house of fame and honors at the pinnacle point of your chart, is extraordinary. Astrologers call this gathering of planets a crown of stars, and this one includes Saturn, Pluto, Jupiter, and Mars, all very powerful planets that can elevate your career in ways that would ordinarily be very difficult. Doors that used to be locked shut are swinging open to you.'"
      ]
     },
     "execution_count": 140,
     "metadata": {},
     "output_type": "execute_result"
    }
   ],
   "source": [
    "#driver.get('https://www.astrologyzone.com/forecasts/aries-horoscope-march-2020/')\n",
    "\n",
    "#we get to horoscope content\n",
    "#then within the horoscope content class we select the paragraphs\n",
    "\n",
    "driver.find_element_by_class_name('horoscope-content').find_element_by_tag_name('p').text\n"
   ]
  },
  {
   "cell_type": "code",
   "execution_count": 156,
   "metadata": {},
   "outputs": [],
   "source": [
    "#this is a list for all of the horoscope text\n",
    "horoscopes = []\n",
    "for i in sign_html:\n",
    "    #open main page for the horoscope\n",
    "    driver.get(i)    \n",
    "    #create empty list for list of links on each page\n",
    "    pagelinks = []\n",
    "    page_text = []\n",
    "    #paragraphs on first page\n",
    "    paragraphs = driver.find_elements_by_class_name('horoscope-content')\n",
    "    for j in paragraphs:  \n",
    "        page_text.append(j.find_element_by_tag_name('p').text)\n",
    "    linklist = driver.find_elements_by_class_name('post-page-numbers')\n",
    "    #getting the page links for the horoscopes\n",
    "    for x in linklist:\n",
    "        if x.get_attribute('href') == None:\n",
    "            pass\n",
    "        else:\n",
    "            pagelinks.append(x.get_attribute('href'))\n",
    "    #now going through the page links\n",
    "    for k in pagelinks:\n",
    "        driver.get(k)\n",
    "        paragraphs = driver.find_elements_by_class_name('horoscope-content')\n",
    "        for z in paragraphs:\n",
    "            page_text.append(z.find_element_by_tag_name('p').text)\n",
    "    #joining text to add to horoscope list\n",
    "    horoscopes.append(' '.join(page_text))\n",
    "            \n",
    "\n",
    "        \n",
    "        \n",
    "#added none because for first page there is no link\n",
    "\n",
    "#page_links = []\n",
    "#linklist = driver.find_elements_by_class_name('post-page-numbers')\n",
    "#for x in linklist:\n",
    "    #if x.get_attribute('href') == None:\n",
    "        #pass\n",
    "   # else:\n",
    "       # page_links.append(x.get_attribute('href'))"
   ]
  },
  {
   "cell_type": "code",
   "execution_count": 165,
   "metadata": {},
   "outputs": [],
   "source": [
    "page = []\n",
    "for k in pagelinks:\n",
    "    driver.get(k)\n",
    "    paragraphs = driver.find_elements_by_class_name('horoscope-content')\n",
    "    for z in paragraphs:\n",
    "        page.append(z.find_element_by_tag_name('p').text)"
   ]
  },
  {
   "cell_type": "code",
   "execution_count": 187,
   "metadata": {},
   "outputs": [
    {
     "name": "stdout",
     "output_type": "stream",
     "text": [
      "1page\n"
     ]
    }
   ],
   "source": [
    "#this is a list for all of the horoscope text\n",
    "count = 0\n",
    "horoscopes = []\n",
    "for i in sign_html[0:1]:\n",
    "    #keeping track of progress\n",
    "    count2 = 0\n",
    "    #open main page for the horoscope\n",
    "    driver.get(i)   \n",
    "    time.sleep(.5)\n",
    "    #create empty list for list of links on each page\n",
    "    pagelinks = []\n",
    "    page = []\n",
    "    linklist = driver.find_elements_by_class_name('post-page-numbers')\n",
    "    #getting the page links for the horoscopes\n",
    "    for x in linklist:\n",
    "        if x.get_attribute('href') == None:\n",
    "            pass\n",
    "        else:\n",
    "            pagelinks.append(x.get_attribute('href'))\n",
    "    time.sleep(.5)\n",
    "    for y in pagelinks:\n",
    "        driver.get(y)\n",
    "        paragraphs2 = driver.find_elements_by_class_name('horoscope-content')\n",
    "        for z in paragraphs2:\n",
    "            if z.find_element_by_tag_name('p').text == 'SUMMARY':\n",
    "                pass\n",
    "            else:\n",
    "                page.append(z.find_element_by_tag_name('p').text)\n",
    "    count += 1\n",
    "    print(str(count) + ' page')"
   ]
  },
  {
   "cell_type": "code",
   "execution_count": 188,
   "metadata": {},
   "outputs": [
    {
     "data": {
      "text/plain": [
       "['From March 21 to July 1, this taskmaster planet will leave your career sector and move into your eleventh house, where Saturn will give you a preview of the coming years spanning December 16, 2020, to March 7, 2023. Saturn will be in your friendship, hopes, and wishes sector, a time when you may help a friend going through a rough patch or give your time to a humanitarian, charitable, political, club, or community effort that aligns with your beliefs.',\n",
       " 'Saturn has had a very strong influence over you during the past two years—made even more so by traveling in Capricorn, the sign Saturn rules—and you only have a few months to go before the taskmaster planet leaves for nearly three decades. I feel you have proven your worth to higher-ups. You were born to measure up. Losing is never an option to an Aries, and beginning March 19 the Sun will be in Aries, considered to be in exaltation meaning it is in the very best place for the Sun to be, allowing you to grow in leadership skills, so we have to add that to the equation, too. Trust that you won’t have to work so hard in the future to prove your mettle. The best part is that after Saturn departs on December 16, 2020, he will leave a gift by the door, as is usual for Saturn, as thanks for your dedication and willingness to deal with his rigors.',\n",
       " 'On the same day the full moon appears, March 9, Mercury will go direct, and you will feel a blast of energy come through your window. Mercury has been retrograde since February 16, so this is good news. Wait to take important actions until after March 9, and give a space of as many days as possible to allow Mercury to regulate its orbit. Wait a few days before you decide to sign a contract, close on a house, or do anything else of vital importance to you. After Mercury goes direct, you will have until June 17 before Mercury goes retrograde again.',\n",
       " 'New moons open opportunities, and this one is particularly sweet. A new moon is not influential for just a day, but for weeks and even months—all good news.',\n",
       " 'If you need another day to discuss a financial deal, choose March 27, when Venus in Taurus, your second house of income, will be in divine harmony with Jupiter in your tenth house of honors, awards, and achievement. Wow, this would be an ideal day for a performance review or to negotiate compensation for a new assignment.',\n",
       " 'I promise time for love and fun is coming, so be patient. In the meantime, circle March 11 as your best day this month for love. More will arrive next month, when Venus moves to Gemini, an air sign that blends perfectly with your Aries fire element. Mars will bring out your sexy charms in Aquarius, a sign that blends magnificently with Gemini. Be patient—you will like April.',\n",
       " 'Usually, a rise in status results in more compensation, which is possible later this month or more likely just after the new moon in Taurus next month on April 22. This month, you might want to quietly start to develop your case for a raise with examples of your good judgment and vision for the company’s future. If you are interviewing for a responsible new job, it might take time to land it as all good jobs are that way. Still, you will likely either receive the call this month or find out that your prospective employer has narrowed the list of most-qualified applicants. It looks like you made the short list of the very best candidates.']"
      ]
     },
     "execution_count": 188,
     "metadata": {},
     "output_type": "execute_result"
    }
   ],
   "source": [
    "page"
   ]
  },
  {
   "cell_type": "code",
   "execution_count": 177,
   "metadata": {},
   "outputs": [
    {
     "data": {
      "text/plain": [
       "['https://www.astrologyzone.com/forecasts/taurus-horoscope-for-march-2020/2/',\n",
       " 'https://www.astrologyzone.com/forecasts/taurus-horoscope-for-march-2020/3/',\n",
       " 'https://www.astrologyzone.com/forecasts/taurus-horoscope-for-march-2020/4/',\n",
       " 'https://www.astrologyzone.com/forecasts/taurus-horoscope-for-march-2020/5/',\n",
       " 'https://www.astrologyzone.com/forecasts/taurus-horoscope-for-march-2020/6/',\n",
       " 'https://www.astrologyzone.com/forecasts/taurus-horoscope-for-march-2020/7/']"
      ]
     },
     "execution_count": 177,
     "metadata": {},
     "output_type": "execute_result"
    }
   ],
   "source": [
    "pagelinks"
   ]
  },
  {
   "cell_type": "code",
   "execution_count": null,
   "metadata": {},
   "outputs": [],
   "source": []
  }
 ],
 "metadata": {
  "kernelspec": {
   "display_name": "Python 3",
   "language": "python",
   "name": "python3"
  },
  "language_info": {
   "codemirror_mode": {
    "name": "ipython",
    "version": 3
   },
   "file_extension": ".py",
   "mimetype": "text/x-python",
   "name": "python",
   "nbconvert_exporter": "python",
   "pygments_lexer": "ipython3",
   "version": "3.7.3"
  }
 },
 "nbformat": 4,
 "nbformat_minor": 2
}
